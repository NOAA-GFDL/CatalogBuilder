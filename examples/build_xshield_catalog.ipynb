{
 "cells": [
  {
   "cell_type": "code",
   "execution_count": 1,
   "id": "2a5a9746-b56f-4462-b938-ae17f7129a8d",
   "metadata": {},
   "outputs": [],
   "source": [
    "import catalogbuilder\n",
    "from catalogbuilder.scripts import gen_intake_gfdl\n",
    "import sys, os"
   ]
  },
  {
   "cell_type": "code",
   "execution_count": 2,
   "id": "1b0f5306-0032-4e0a-8c4a-b5bcb1d2ab7f",
   "metadata": {},
   "outputs": [],
   "source": [
    "#This is an example call to run catalog builder using a yaml config file.\n",
    "\n",
    "configyaml = '/home/tmerlis/hackathon/catbuild/config-xshield_stellar.yaml' \n",
    "# soft link to processed and processed_new **only** from within '/scratch/cimes/GLOBALFV3/stellar_run/' \n",
    "input_path = '/scratch/cimes/tmerlis/GLOBALFV3/stellar_run/' \n",
    "output_path = '/home/tmerlis/hackathon/catbuild/xshield_cat' "
   ]
  },
  {
   "cell_type": "code",
   "execution_count": 3,
   "id": "e8d89aec-655e-4729-820b-a37ffb60454e",
   "metadata": {},
   "outputs": [
    {
     "name": "stdout",
     "output_type": "stream",
     "text": [
      "INFO:local:[Mostly] silent log activated\n",
      "INFO:local:Default schema: catalogbuilder/cats/gfdl_template.json\n",
      "INFO:local:input path: /scratch/cimes/tmerlis/GLOBALFV3/stellar_run/\n",
      "INFO:local: output path: /home/tmerlis/hackathon/catbuild/xshield_cat\n",
      "JSON generated at: /home/tmerlis/hackathon/catbuild/xshield_cat.json\n",
      "CSV generated at: /home/tmerlis/hackathon/catbuild/xshield_cat.csv\n",
      "INFO:local:CSV generated at/home/tmerlis/hackathon/catbuild/xshield_cat.csv\n",
      "CPU times: user 4.76 s, sys: 12.6 s, total: 17.3 s\n",
      "Wall time: 2min 5s\n"
     ]
    }
   ],
   "source": [
    "%%time\n",
    "def create_catalog_from_config(input_path=input_path,output_path=output_path,configyaml=configyaml):\n",
    "    csv, json = gen_intake_gfdl.create_catalog(input_path=input_path,output_path=output_path,config=configyaml)\n",
    "    return(csv,json)\n",
    "\n",
    "if __name__ == '__main__':\n",
    "    create_catalog_from_config(input_path,output_path,configyaml)"
   ]
  },
  {
   "cell_type": "code",
   "execution_count": 4,
   "id": "69de4f3a-c622-444f-9bdf-cb3459d3261c",
   "metadata": {},
   "outputs": [
    {
     "name": "stderr",
     "output_type": "stream",
     "text": [
      "No traceback available to show.\n"
     ]
    }
   ],
   "source": [
    "%tb"
   ]
  }
 ],
 "metadata": {
  "kernelspec": {
   "display_name": "catalogbuilder [~/.conda/envs/catalogbuilder/]",
   "language": "python",
   "name": "conda_catalogbuilder"
  },
  "language_info": {
   "codemirror_mode": {
    "name": "ipython",
    "version": 3
   },
   "file_extension": ".py",
   "mimetype": "text/x-python",
   "name": "python",
   "nbconvert_exporter": "python",
   "pygments_lexer": "ipython3",
   "version": "3.13.0"
  }
 },
 "nbformat": 4,
 "nbformat_minor": 5
}
